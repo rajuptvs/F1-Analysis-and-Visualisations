{
 "cells": [
  {
   "cell_type": "code",
   "execution_count": null,
   "metadata": {},
   "outputs": [],
   "source": [
    "driver1_racetimes=pd.DataFrame(laps_1.pick_accurate())\n",
    "driver2_racetimes=pd.DataFrame(laps_2.pick_accurate())\n",
    "\n",
    "\n",
    "\n",
    "driver1_racetimes\n",
    "#average race pace\n",
    "\n",
    "from datetime import timedelta\n",
    "\n",
    "n=timedelta(seconds=0)\n",
    "\n",
    "\n",
    "\n",
    "\n",
    "for index, row in driver1_racetimes.iterrows():\n",
    "    \n",
    "    n+=row[\"LapTime\"]\n",
    "   \n",
    "print(n)\n",
    "\n",
    "print(driver1+\"  : Race Pace : \"+str(n/len(driver1_racetimes)))\n",
    "\n",
    "\n",
    "from datetime import timedelta\n",
    "\n",
    "n1=timedelta(seconds=0)\n",
    "for index, row in driver2_racetimes.iterrows():\n",
    "    \n",
    "    n1+=row[\"LapTime\"]\n",
    "   \n",
    "print(n1)\n",
    "\n",
    "\n",
    "print(driver2+\"  : Race Pace : \"+str(n1/len(driver2_racetimes)))\n",
    "\n",
    "driver2\n",
    "laps_1.pick_tyre(\"HARD\")"
   ]
  }
 ],
 "metadata": {
  "language_info": {
   "name": "python"
  },
  "orig_nbformat": 4
 },
 "nbformat": 4,
 "nbformat_minor": 2
}
